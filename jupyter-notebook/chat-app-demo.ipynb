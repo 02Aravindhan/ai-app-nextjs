{
 "cells": [
  {
   "cell_type": "code",
   "execution_count": 1,
   "id": "c4a6f42c",
   "metadata": {},
   "outputs": [
    {
     "name": "stdout",
     "output_type": "stream",
     "text": [
      "hellow world\n"
     ]
    }
   ],
   "source": [
    "\n",
    "msg = \"hellow world\"\n",
    "print(msg)"
   ]
  },
  {
   "cell_type": "code",
   "execution_count": 1,
   "id": "10b23efe",
   "metadata": {},
   "outputs": [
    {
     "name": "stdout",
     "output_type": "stream",
     "text": [
      "Requirement already satisfied: typing-extensions in c:\\users\\hp\\appdata\\local\\programs\\python\\python313\\lib\\site-packages (4.13.2)\n",
      "Note: you may need to restart the kernel to use updated packages.\n"
     ]
    },
    {
     "name": "stderr",
     "output_type": "stream",
     "text": [
      "\n",
      "[notice] A new release of pip is available: 25.0.1 -> 25.1.1\n",
      "[notice] To update, run: python.exe -m pip install --upgrade pip\n"
     ]
    },
    {
     "name": "stdout",
     "output_type": "stream",
     "text": [
      "Requirement already satisfied: python-dotenv in c:\\users\\hp\\appdata\\local\\programs\\python\\python313\\lib\\site-packages (1.1.0)\n",
      "Requirement already satisfied: azure-identity in c:\\users\\hp\\appdata\\local\\programs\\python\\python313\\lib\\site-packages (1.21.0)\n",
      "Requirement already satisfied: azure-ai-projects in c:\\users\\hp\\appdata\\local\\programs\\python\\python313\\lib\\site-packages (1.0.0b10)\n",
      "Requirement already satisfied: azure-ai-inference in c:\\users\\hp\\appdata\\local\\programs\\python\\python313\\lib\\site-packages (1.0.0b9)\n",
      "Requirement already satisfied: azure-core>=1.31.0 in c:\\users\\hp\\appdata\\local\\programs\\python\\python313\\lib\\site-packages (from azure-identity) (1.33.0)\n",
      "Requirement already satisfied: cryptography>=2.5 in c:\\users\\hp\\appdata\\local\\programs\\python\\python313\\lib\\site-packages (from azure-identity) (44.0.2)\n",
      "Requirement already satisfied: msal>=1.30.0 in c:\\users\\hp\\appdata\\local\\programs\\python\\python313\\lib\\site-packages (from azure-identity) (1.32.3)\n",
      "Requirement already satisfied: msal-extensions>=1.2.0 in c:\\users\\hp\\appdata\\local\\programs\\python\\python313\\lib\\site-packages (from azure-identity) (1.3.1)\n",
      "Requirement already satisfied: typing-extensions>=4.0.0 in c:\\users\\hp\\appdata\\local\\programs\\python\\python313\\lib\\site-packages (from azure-identity) (4.13.2)\n",
      "Requirement already satisfied: isodate>=0.6.1 in c:\\users\\hp\\appdata\\local\\programs\\python\\python313\\lib\\site-packages (from azure-ai-projects) (0.7.2)\n",
      "Requirement already satisfied: requests>=2.21.0 in c:\\users\\hp\\appdata\\local\\programs\\python\\python313\\lib\\site-packages (from azure-core>=1.31.0->azure-identity) (2.32.3)\n",
      "Requirement already satisfied: six>=1.11.0 in c:\\users\\hp\\appdata\\local\\programs\\python\\python313\\lib\\site-packages (from azure-core>=1.31.0->azure-identity) (1.17.0)\n",
      "Requirement already satisfied: cffi>=1.12 in c:\\users\\hp\\appdata\\local\\programs\\python\\python313\\lib\\site-packages (from cryptography>=2.5->azure-identity) (1.17.1)\n",
      "Requirement already satisfied: PyJWT<3,>=1.0.0 in c:\\users\\hp\\appdata\\local\\programs\\python\\python313\\lib\\site-packages (from PyJWT[crypto]<3,>=1.0.0->msal>=1.30.0->azure-identity) (2.10.1)\n",
      "Requirement already satisfied: pycparser in c:\\users\\hp\\appdata\\local\\programs\\python\\python313\\lib\\site-packages (from cffi>=1.12->cryptography>=2.5->azure-identity) (2.22)\n",
      "Requirement already satisfied: charset-normalizer<4,>=2 in c:\\users\\hp\\appdata\\local\\programs\\python\\python313\\lib\\site-packages (from requests>=2.21.0->azure-core>=1.31.0->azure-identity) (3.4.1)\n",
      "Requirement already satisfied: idna<4,>=2.5 in c:\\users\\hp\\appdata\\local\\programs\\python\\python313\\lib\\site-packages (from requests>=2.21.0->azure-core>=1.31.0->azure-identity) (3.10)\n",
      "Requirement already satisfied: urllib3<3,>=1.21.1 in c:\\users\\hp\\appdata\\local\\programs\\python\\python313\\lib\\site-packages (from requests>=2.21.0->azure-core>=1.31.0->azure-identity) (2.4.0)\n",
      "Requirement already satisfied: certifi>=2017.4.17 in c:\\users\\hp\\appdata\\local\\programs\\python\\python313\\lib\\site-packages (from requests>=2.21.0->azure-core>=1.31.0->azure-identity) (2025.4.26)\n",
      "Note: you may need to restart the kernel to use updated packages.\n"
     ]
    },
    {
     "name": "stderr",
     "output_type": "stream",
     "text": [
      "\n",
      "[notice] A new release of pip is available: 25.0.1 -> 25.1.1\n",
      "[notice] To update, run: python.exe -m pip install --upgrade pip\n"
     ]
    }
   ],
   "source": [
    "!python -m venv labenv\n",
    "# Activate the virtual environment\n",
    "%pip install --upgrade typing-extensions\n",
    "%pip install python-dotenv azure-identity azure-ai-projects azure-ai-inference"
   ]
  },
  {
   "cell_type": "code",
   "execution_count": 4,
   "id": "2f845baf",
   "metadata": {},
   "outputs": [
    {
     "name": "stdout",
     "output_type": "stream",
     "text": [
      "(unavailable_model) Unavailable model: gpt-4o\n",
      "Code: unavailable_model\n",
      "Message: Unavailable model: gpt-4o\n"
     ]
    }
   ],
   "source": [
    "import os\n",
    "\n",
    "# Add references\n",
    "from dotenv import load_dotenv\n",
    "from azure.identity import DefaultAzureCredential\n",
    "from azure.ai.projects import AIProjectClient\n",
    "from azure.ai.inference.models import SystemMessage, UserMessage, AssistantMessage\n",
    "\n",
    "\n",
    "def main(): \n",
    "\n",
    "    # Clear the console\n",
    "    os.system('cls' if os.name=='nt' else 'clear')\n",
    "        \n",
    "    try: \n",
    "    \n",
    "        # Get configuration settings \n",
    "        load_dotenv()\n",
    "        project_connection = os.getenv(\"PROJECT_CONNECTION\")\n",
    "        model_deployment =  os.getenv(\"MODEL_DEPLOYMENT\")\n",
    "        \n",
    "        # Initialize the project client\n",
    "        projectClient = AIProjectClient.from_connection_string(\n",
    "            conn_str=project_connection,\n",
    "            credential=DefaultAzureCredential())\n",
    "\n",
    "        ## Get a chat client \n",
    "        chat = projectClient.inference.get_chat_completions_client()\n",
    "\n",
    "        ## Initialize prompt with system message\n",
    "        prompt=[\n",
    "                SystemMessage(\"You are a helpful AI assistant that answers questions.\")\n",
    "           ]\n",
    "\n",
    "        # Loop until the user types 'quit'\n",
    "        while True:\n",
    "            # Get input text\n",
    "            input_text = input(\"Enter the prompt (or type 'quit' to exit): \")\n",
    "            if input_text.lower() == \"quit\":\n",
    "                break\n",
    "            if len(input_text) == 0:\n",
    "                print(\"Please enter a prompt.\")\n",
    "                continue\n",
    "            \n",
    "            # Get a chat completion\n",
    "            prompt.append(UserMessage(input_text))\n",
    "            response = chat.complete(\n",
    "                model=model_deployment,\n",
    "                messages=prompt)\n",
    "            completion = response.choices[0].message.content\n",
    "            print(completion)\n",
    "            prompt.append(AssistantMessage(completion))\n",
    "\n",
    "    except Exception as ex:\n",
    "        print(ex)\n",
    "\n",
    "if __name__ == '__main__': \n",
    "    main()"
   ]
  }
 ],
 "metadata": {
  "kernelspec": {
   "display_name": "Python 3",
   "language": "python",
   "name": "python3"
  },
  "language_info": {
   "codemirror_mode": {
    "name": "ipython",
    "version": 3
   },
   "file_extension": ".py",
   "mimetype": "text/x-python",
   "name": "python",
   "nbconvert_exporter": "python",
   "pygments_lexer": "ipython3",
   "version": "3.13.3"
  }
 },
 "nbformat": 4,
 "nbformat_minor": 5
}
